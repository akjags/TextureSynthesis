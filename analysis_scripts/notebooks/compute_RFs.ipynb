{
 "cells": [
  {
   "cell_type": "code",
   "execution_count": 35,
   "metadata": {},
   "outputs": [],
   "source": [
    "%matplotlib inline\n",
    "import numpy as np\n",
    "import matplotlib.pyplot as plt\n",
    "from itertools import combinations_with_replacement, combinations, permutations, product"
   ]
  },
  {
   "cell_type": "code",
   "execution_count": 4,
   "metadata": {},
   "outputs": [
    {
     "name": "stdout",
     "output_type": "stream",
     "text": [
      "layer output sizes given image = 256x256\n",
      "\n",
      "conv1_1: \tOutput size = 256\t RF Size =   3\t  Jump =   1\t Center00 = 0.5\n",
      "conv1_2: \tOutput size = 256\t RF Size =   5\t  Jump =   1\t Center00 = 0.5\n",
      "  pool1: \tOutput size = 128\t RF Size =   6\t  Jump =   2\t Center00 =   1\n",
      "conv2_1: \tOutput size = 128\t RF Size =  10\t  Jump =   2\t Center00 =   1\n",
      "conv2_2: \tOutput size = 128\t RF Size =  14\t  Jump =   2\t Center00 =   1\n",
      "  pool2: \tOutput size =  64\t RF Size =  16\t  Jump =   4\t Center00 =   2\n",
      "conv3_1: \tOutput size =  64\t RF Size =  24\t  Jump =   4\t Center00 =   2\n",
      "conv3_2: \tOutput size =  64\t RF Size =  32\t  Jump =   4\t Center00 =   2\n",
      "  pool3: \tOutput size =  32\t RF Size =  36\t  Jump =   8\t Center00 =   4\n",
      "conv4_1: \tOutput size =  32\t RF Size =  52\t  Jump =   8\t Center00 =   4\n",
      "conv4_2: \tOutput size =  32\t RF Size =  68\t  Jump =   8\t Center00 =   4\n",
      "conv4_3: \tOutput size =  32\t RF Size =  84\t  Jump =   8\t Center00 =   4\n",
      "conv4_4: \tOutput size =  32\t RF Size = 100\t  Jump =   8\t Center00 =   4\n",
      "  pool4: \tOutput size =  16\t RF Size = 108\t  Jump =  16\t Center00 =   8\n",
      "conv5_1: \tOutput size =  16\t RF Size = 140\t  Jump =  16\t Center00 =   8\n",
      "conv5_2: \tOutput size =  16\t RF Size = 172\t  Jump =  16\t Center00 =   8\n",
      "conv5_3: \tOutput size =  16\t RF Size = 204\t  Jump =  16\t Center00 =   8\n",
      "conv5_4: \tOutput size =  16\t RF Size = 236\t  Jump =  16\t Center00 =   8\n",
      "  pool5: \tOutput size =   8\t RF Size = 252\t  Jump =  32\t Center00 =  16\n"
     ]
    }
   ],
   "source": [
    "#Compute input size that leads to a 1x1 output size, among other things   \n",
    "\n",
    "# [filter size, stride, padding]\n",
    "vgg19 =[[3,1,1],[3,1,1], [2,2,0], [3,1,1], [3,1,1], [2,2,0], [3,1,1], [3,1,1],[2,2,0],\\\n",
    "          [3,1,1], [3,1,1], [3,1,1], [3,1,1],[2,2,0], [3,1,1], [3,1,1], [3,1,1], [3,1,1], [2,2,0]]\n",
    "layer_names = ['conv1_1', 'conv1_2','pool1','conv2_1', 'conv2_2', 'pool2', 'conv3_1', \\\n",
    "              'conv3_2','pool3','conv4_1','conv4_2','conv4_3','conv4_4','pool4',\\\n",
    "              'conv5_1', 'conv5_2', 'conv5_3', 'conv5_4', 'pool5']\n",
    "imsize = 256\n",
    "\n",
    "def get_net_size(insize, net = vgg19):\n",
    "    out_size = np.zeros(len(net))\n",
    "    rf_size = np.zeros(len(net))\n",
    "    tot_stride = np.zeros(len(net))\n",
    "    start1 = np.zeros(len(net), dtype=np.float64)\n",
    "    \n",
    "    totstride = 1\n",
    "    startPos = 0.5\n",
    "    rf_sz = net[0][0]\n",
    "    for layer in range(len(net)):\n",
    "        filt_sz, stride, pad = net[layer]\n",
    "        \n",
    "        # Calculate outsize as a function of insize\n",
    "        out_sz = np.floor((insize - filt_sz + 2*pad) / stride) + 1\n",
    "\n",
    "        actualP = (out_sz-1)*stride - insize + filt_sz\n",
    "        pL = np.floor(actualP/2)\n",
    "\n",
    "        # Calculate RF size as a function of previous layer RF size\n",
    "        if layer > 0:\n",
    "            rf_sz = rf_sz + (filt_sz-1)*totstride\n",
    "            \n",
    "        # Start position\n",
    "        startPos = startPos + ((filt_sz-1)/2.0 - pL)*totstride\n",
    "        \n",
    "        # Distance between the center of adjacent features \n",
    "        totstride = totstride * stride\n",
    "        \n",
    "        out_size[layer], rf_size[layer], tot_stride[layer] = out_sz, rf_sz, totstride\n",
    "        start1[layer] = startPos\n",
    "        \n",
    "        insize = out_sz\n",
    "        \n",
    "    net_size = {'out_size': out_size, 'rf_size': rf_size, 'tot_stride': tot_stride, 'center00': start1}\n",
    "    return net_size\n",
    "\n",
    "def print_layer_sizes():\n",
    "    net_size = get_net_size(imsize)\n",
    "    out_size,rf_size,tot_stride,center00 = net_size['out_size'], net_size['rf_size'],\\\n",
    "                                        net_size['tot_stride'], net_size['center00']\n",
    "    print \"layer output sizes given image = %dx%d\\n\" % (imsize, imsize)\n",
    "    for i in range(len(vgg19)):\n",
    "        print \"%7s: \\tOutput size = %3d\\t RF Size = %3d\\t  Jump = %3d\\t Center00 = %3g\" \\\n",
    "                % (layer_names[i], out_size[i], rf_size[i], tot_stride[i], center00[i])\n",
    "print_layer_sizes() "
   ]
  },
  {
   "cell_type": "code",
   "execution_count": 60,
   "metadata": {
    "scrolled": true
   },
   "outputs": [
    {
     "name": "stdout",
     "output_type": "stream",
     "text": [
      "[2.0, 2.0] [18.0, 18.0]\n"
     ]
    }
   ],
   "source": [
    "import time\n",
    "def get_rf_coords(layerName, pos, layernames=layer_names, imsize=256):\n",
    "    net_size = get_net_size(imsize)\n",
    "    \n",
    "    lay_idx = layernames.index(layerName)\n",
    "    \n",
    "    out_size = net_size['out_size'][lay_idx]\n",
    "    \n",
    "    assert(pos[0] < out_size)\n",
    "    assert(pos[1] < out_size)\n",
    "    \n",
    "    rf_size = net_size['rf_size'][lay_idx]\n",
    "    start = net_size['center00'][lay_idx]\n",
    "\n",
    "    jump = net_size['tot_stride'][lay_idx]\n",
    "    center = [start+pos[0]*jump, start + pos[1]*jump]\n",
    "    \n",
    "    top_left = [center[0] - rf_size/2.0, center[1] - rf_size/2.0]\n",
    "    bottom_right = [center[0] + rf_size/2.0, center[1] + rf_size/2.0]\n",
    "\n",
    "    return rf_size, center, [top_left, bottom_right]\n",
    "\n",
    "def draw_rf(layer, pos, imsize=256):\n",
    "    rf_sz, center, extent = get_rf_coords(lname, pos, imsize=imsize)\n",
    "    top_left, bottom_right = extent\n",
    "    #print 'Layer %s, Index (%d, %d) has receptive field size %d centered at position (%g, %g)' \\\n",
    "    #    % (lname, pos[0], pos[1], rf_sz, center[0], center[1])\n",
    "    #print 'RF goes from [%g, %g] to [%g, %g]' % (top_left[0], top_left[1], bottom_right[0], bottom_right[1])\n",
    "\n",
    "    im = np.zeros((imsize, imsize))\n",
    "    tl, br = extent\n",
    "    for xi in range(imsize):\n",
    "        for yi in range(imsize):\n",
    "            if xi >= tl[0] and xi <= br[0] and yi >= tl[1] and yi <= br[1]:\n",
    "                im[xi,yi] = 1\n",
    "    return im\n",
    "\n"
   ]
  },
  {
   "cell_type": "code",
   "execution_count": 66,
   "metadata": {},
   "outputs": [
    {
     "name": "stdout",
     "output_type": "stream",
     "text": [
      "RF:  [[0, 0], [128, 128]] Subset:  [[2.0, 2.0], [18.0, 18.0]]\n",
      "rf_area 16384\n",
      "overlap:  16.0 16.0\n",
      "overlap:  0.015625\n"
     ]
    }
   ],
   "source": [
    "def precompute_layer_subset_weights(self, imsize=256):\n",
    "    layer_names = ['conv1_1', 'conv1_2','pool1','conv2_1', 'conv2_2', 'pool2', 'conv3_1', \\\n",
    "              'conv3_2','pool3','conv4_1','conv4_2','conv4_3','conv4_4','pool4',\\\n",
    "              'conv5_1', 'conv5_2', 'conv5_3', 'conv5_4', 'pool5']\n",
    "\n",
    "    lsub_weights = {}\n",
    "    for layI in range(len(layer_names)):\n",
    "        lname = layer_names[layI]\n",
    "        out_size = self.net_size['out_size'][layI]\n",
    "        rf_size = self.net_size['rf_size'][layI]\n",
    "        start = self.net_size['center00'][layI]\n",
    "        jump = self.net_size['tot_stride'][layI]\n",
    "        \n",
    "        nSubsets = len(self.subset_boundaries)\n",
    "        layer_weight = np.zeros((out_size, out_size, nSubsets))\n",
    "\n",
    "        for si in range(nSubsets):\n",
    "            isub = self.subset_boundaries[si]\n",
    "            for xi in range(out_size):\n",
    "                for yi in range(out_size):\n",
    "                    pos = [xi,yi]\n",
    "                    rf_size, center, [tl,br] = get_rf_coords(lname, pos)\n",
    "                    layer_weights[xi,yi,si] = calc_overlap([tl,br], isub)\n",
    "\n",
    "        lsub_weights[lname] = layer_weight\n",
    "\n",
    "    return lsub_weights\n",
    "\n",
    "def calc_proportion_overlap(rf, subset):\n",
    "    print 'RF: ', rf, 'Subset: ', subset\n",
    "    \n",
    "    # Calculate what percentage of the receptive field is contained within the subset\n",
    "    tl_subset, br_subset = subset[0], subset[1] # rect1\n",
    "    tl_rf, br_rf = rf[0], rf[1] # rect2\n",
    "    \n",
    "    rf_area = (br_rf[0] - tl_rf[0])*(br_rf[1] - tl_rf[1])\n",
    "    print 'rf_area', rf_area\n",
    "    \n",
    "    x_overlap = np.maximum(0, np.minimum(br_subset[0], br_rf[0]) - np.maximum(tl_subset[0], tl_rf[0]));\n",
    "    y_overlap = np.maximum(0, np.minimum(br_subset[1], br_rf[1]) - np.maximum(tl_subset[1], tl_rf[1]));\n",
    "    print 'overlap: ', x_overlap, y_overlap\n",
    "    overlapArea = 1.0*x_overlap * y_overlap / rf_area;\n",
    "    \n",
    "    # calculate percentage of receptive field that overlaps\n",
    "    return overlapArea\n",
    "\n",
    "rf_size, center, [tl,br] = get_rf_coords('pool2', [2, 2])\n",
    "subset = [[0, 0], [128, 128]]\n",
    "overlap = calc_overlap(subset, [tl, br])\n",
    "print 'overlap: ', overlap"
   ]
  },
  {
   "cell_type": "code",
   "execution_count": 73,
   "metadata": {},
   "outputs": [
    {
     "ename": "TypeError",
     "evalue": "colorbar() takes at least 2 arguments (1 given)",
     "output_type": "error",
     "traceback": [
      "\u001b[0;31m\u001b[0m",
      "\u001b[0;31mTypeError\u001b[0mTraceback (most recent call last)",
      "\u001b[0;32m<ipython-input-73-1126c97d0da6>\u001b[0m in \u001b[0;36m<module>\u001b[0;34m()\u001b[0m\n\u001b[1;32m      3\u001b[0m \u001b[0mfig\u001b[0m \u001b[0;34m=\u001b[0m \u001b[0mplt\u001b[0m\u001b[0;34m.\u001b[0m\u001b[0mfigure\u001b[0m\u001b[0;34m(\u001b[0m\u001b[0;34m)\u001b[0m\u001b[0;34m\u001b[0m\u001b[0m\n\u001b[1;32m      4\u001b[0m \u001b[0mplt\u001b[0m\u001b[0;34m.\u001b[0m\u001b[0mimshow\u001b[0m\u001b[0;34m(\u001b[0m\u001b[0ma\u001b[0m\u001b[0;34m[\u001b[0m\u001b[0;34m:\u001b[0m\u001b[0;34m,\u001b[0m\u001b[0;34m:\u001b[0m\u001b[0;34m,\u001b[0m\u001b[0;36m3\u001b[0m\u001b[0;34m]\u001b[0m\u001b[0;34m)\u001b[0m\u001b[0;34m\u001b[0m\u001b[0m\n\u001b[0;32m----> 5\u001b[0;31m \u001b[0mfig\u001b[0m\u001b[0;34m.\u001b[0m\u001b[0mcolorbar\u001b[0m\u001b[0;34m(\u001b[0m\u001b[0;34m)\u001b[0m\u001b[0;34m\u001b[0m\u001b[0m\n\u001b[0m",
      "\u001b[0;31mTypeError\u001b[0m: colorbar() takes at least 2 arguments (1 given)"
     ]
    },
    {
     "data": {
      "image/png": "[encoded data removed]",
      "text/plain": [
       "<matplotlib.figure.Figure at 0x1080c7a90>"
      ]
     },
     "metadata": {},
     "output_type": "display_data"
    }
   ],
   "source": [
    "a = np.load('tmp/p4.npy')\n",
    "a.shape\n",
    "fig = plt.figure()\n",
    "plt.imshow(a[:,:,3])\n",
    "fig.colorbar()"
   ]
  },
  {
   "cell_type": "code",
   "execution_count": 8,
   "metadata": {},
   "outputs": [
    {
     "ename": "AttributeError",
     "evalue": "'list' object has no attribute 'net_size'",
     "output_type": "error",
     "traceback": [
      "\u001b[0;31m\u001b[0m",
      "\u001b[0;31mAttributeError\u001b[0mTraceback (most recent call last)",
      "\u001b[0;32m<ipython-input-8-1c68d34ad0ed>\u001b[0m in \u001b[0;36m<module>\u001b[0;34m()\u001b[0m\n\u001b[1;32m     20\u001b[0m     \u001b[0;32mreturn\u001b[0m \u001b[0mrf_size\u001b[0m\u001b[0;34m,\u001b[0m \u001b[0mcenter\u001b[0m\u001b[0;34m,\u001b[0m \u001b[0;34m[\u001b[0m\u001b[0mtop_left\u001b[0m\u001b[0;34m,\u001b[0m \u001b[0mbottom_right\u001b[0m\u001b[0;34m]\u001b[0m\u001b[0;34m\u001b[0m\u001b[0m\n\u001b[1;32m     21\u001b[0m \u001b[0;34m\u001b[0m\u001b[0m\n\u001b[0;32m---> 22\u001b[0;31m \u001b[0mget_rf_coords\u001b[0m\u001b[0;34m(\u001b[0m\u001b[0;34m[\u001b[0m\u001b[0;34m]\u001b[0m\u001b[0;34m,\u001b[0m \u001b[0;34m'pool4'\u001b[0m\u001b[0;34m,\u001b[0m \u001b[0;34m[\u001b[0m\u001b[0;36m4\u001b[0m\u001b[0;34m,\u001b[0m \u001b[0;36m1\u001b[0m\u001b[0;34m]\u001b[0m\u001b[0;34m)\u001b[0m\u001b[0;34m\u001b[0m\u001b[0m\n\u001b[0m",
      "\u001b[0;32m<ipython-input-8-1c68d34ad0ed>\u001b[0m in \u001b[0;36mget_rf_coords\u001b[0;34m(self, layerName, pos, imsize)\u001b[0m\n\u001b[1;32m      4\u001b[0m     \u001b[0mlay_idx\u001b[0m \u001b[0;34m=\u001b[0m \u001b[0mlayer_names\u001b[0m\u001b[0;34m.\u001b[0m\u001b[0mindex\u001b[0m\u001b[0;34m(\u001b[0m\u001b[0mlayerName\u001b[0m\u001b[0;34m)\u001b[0m\u001b[0;34m\u001b[0m\u001b[0m\n\u001b[1;32m      5\u001b[0m \u001b[0;34m\u001b[0m\u001b[0m\n\u001b[0;32m----> 6\u001b[0;31m     \u001b[0mout_size\u001b[0m \u001b[0;34m=\u001b[0m \u001b[0mself\u001b[0m\u001b[0;34m.\u001b[0m\u001b[0mnet_size\u001b[0m\u001b[0;34m[\u001b[0m\u001b[0;34m'out_size'\u001b[0m\u001b[0;34m]\u001b[0m\u001b[0;34m[\u001b[0m\u001b[0mlay_idx\u001b[0m\u001b[0;34m]\u001b[0m\u001b[0;34m\u001b[0m\u001b[0m\n\u001b[0m\u001b[1;32m      7\u001b[0m \u001b[0;34m\u001b[0m\u001b[0m\n\u001b[1;32m      8\u001b[0m     \u001b[0;32massert\u001b[0m\u001b[0;34m(\u001b[0m\u001b[0mpos\u001b[0m\u001b[0;34m[\u001b[0m\u001b[0;36m0\u001b[0m\u001b[0;34m]\u001b[0m \u001b[0;34m<\u001b[0m \u001b[0mout_size\u001b[0m\u001b[0;34m)\u001b[0m\u001b[0;34m\u001b[0m\u001b[0m\n",
      "\u001b[0;31mAttributeError\u001b[0m: 'list' object has no attribute 'net_size'"
     ]
    }
   ],
   "source": [
    "def get_rf_coords(self, layerName, pos, imsize=256):\n",
    "    layer_names = ['conv1_1', 'conv1_2','pool1','conv2_1', 'conv2_2', 'pool2', 'conv3_1', \\\n",
    "              'conv3_2','pool3','conv4_1','conv4_2','conv4_3','conv4_4','pool4',\\\n",
    "              'conv5_1', 'conv5_2', 'conv5_3', 'conv5_4', 'pool5']\n",
    "\n",
    "    lay_idx = layer_names.index(layerName)\n",
    "    \n",
    "    out_size = self.net_size['out_size'][lay_idx]\n",
    "    \n",
    "    assert(pos[0] < out_size)\n",
    "    assert(pos[1] < out_size)\n",
    "    \n",
    "    rf_size = self.net_size['rf_size'][lay_idx]\n",
    "    start = self.net_size['center00'][lay_idx]\n",
    "\n",
    "    jump = self.net_size['tot_stride'][lay_idx]\n",
    "    center = [start+pos[0,:]*jump, start + pos[1,:]*jump]\n",
    "    \n",
    "    top_left = [center[0] - rf_size/2.0, center[1] - rf_size/2.0]\n",
    "    bottom_right = [center[0] + rf_size/2.0, center[1] + rf_size/2.0]\n",
    "\n",
    "    return rf_size, center, [top_left, bottom_right]\n",
    "\n",
    "get_rf_coords([], 'pool4', [4, 1])"
   ]
  },
  {
   "cell_type": "code",
   "execution_count": null,
   "metadata": {},
   "outputs": [],
   "source": [
    "def get_rf_overlap(layerName, rf, layernames=layer_names, imsize=256):\n",
    "    # we want to return a matrix of the same size as the output of the layer.\n",
    "    net_size = get_net_size(imsize)\n",
    "    \n",
    "    lay_idx = layernames.index(layerName)\n",
    "    \n",
    "    out_size = net_size['out_size'][lay_idx]\n",
    "    \n",
    "    wm = np.zeros((out_size, out_size))\n",
    "    rf_size, center, [tl,br] = get_rf_coords\n",
    "    \n",
    "    rf_size = net_size['rf_size'][lay_idx]\n",
    "    start = net_size['center00'][lay_idx]\n",
    "\n",
    "    jump = net_size['tot_stride'][lay_idx]\n",
    "    center = [start+pos[0]*jump, start + pos[1]*jump]\n",
    "    \n",
    "    top_left = [center[0] - rf_size/2.0, center[1] - rf_size/2.0]\n",
    "    bottom_right = [center[0] + rf_size/2.0, center[1] + rf_size/2.0]\n",
    "\n",
    "    return rf_size, center, [top_left, bottom_right]\n"
   ]
  },
  {
   "cell_type": "code",
   "execution_count": 6,
   "metadata": {},
   "outputs": [
    {
     "data": {
      "text/plain": [
       "<matplotlib.image.AxesImage at 0x107373f90>"
      ]
     },
     "execution_count": 6,
     "metadata": {},
     "output_type": "execute_result"
    },
    {
     "data": {
      "image/png": "[encoded data removed]",
      "text/plain": [
       "<matplotlib.figure.Figure at 0x1072d1290>"
      ]
     },
     "metadata": {},
     "output_type": "display_data"
    }
   ],
   "source": [
    "## Define layer name and position\n",
    "lname = 'pool3'\n",
    "pos = [15, 15] \n",
    "\n",
    "im = draw_rf(lname, pos)\n",
    "plt.imshow(im)"
   ]
  },
  {
   "cell_type": "code",
   "execution_count": 78,
   "metadata": {},
   "outputs": [
    {
     "name": "stdout",
     "output_type": "stream",
     "text": [
      "Layer name where the feature in: pool3\n",
      "index of the feature in x dimension (from 0)1\n",
      "index of the feature in y dimension (from 0)1\n",
      "receptive field: (36, 36)\n",
      "center: (8.5, 8.5)\n"
     ]
    }
   ],
   "source": [
    "\n",
    "# [filter size, stride, padding]\n",
    "#Assume the two dimensions are the same\n",
    "#Each kernel requires the following parameters:\n",
    "# - k_i: kernel size\n",
    "# - s_i: stride\n",
    "# - p_i: padding (if padding is uneven, right padding will higher than left padding; \"SAME\" option in tensorflow)\n",
    "# \n",
    "#Each layer i requires the following parameters to be fully represented: \n",
    "# - n_i: number of feature (data layer has n_1 = imagesize )\n",
    "# - j_i: distance (projected to image pixel distance) between center of two adjacent features\n",
    "# - r_i: receptive field of a feature in layer i\n",
    "# - start_i: position of the first feature's receptive field in layer i (idx start from 0, negative means the center fall into padding)\n",
    "\n",
    "import math\n",
    "\n",
    "convnet =[[3,1,1],[3,1,1], [2,2,0], [3,1,1], [3,1,1], [2,2,0], [3,1,1], [3,1,1],[2,2,0],\\\n",
    "          [3,1,1], [3,1,1], [3,1,1], [3,1,1],[2,2,0], [3,1,1], [3,1,1], [3,1,1], [3,1,1], [2,2,0]]\n",
    "layer_names = ['conv1_1', 'conv1_2','pool1','conv2_1', 'conv2_2', 'pool2', 'conv3_1', \\\n",
    "              'conv3_2','pool3','conv4_1','conv4_2','conv4_3','conv4_4','pool4',\\\n",
    "              'conv5_1', 'conv5_2', 'conv5_3', 'conv5_4', 'pool5']\n",
    "imsize = 256\n",
    "\n",
    "\n",
    "def outFromIn(conv, layerIn):\n",
    "    n_in = layerIn[0]\n",
    "    j_in = layerIn[1]\n",
    "    r_in = layerIn[2]\n",
    "    start_in = layerIn[3]\n",
    "    k = conv[0]\n",
    "    s = conv[1]\n",
    "    p = conv[2]\n",
    "\n",
    "    n_out = math.floor((n_in - k + 2*p)/s) + 1\n",
    "    actualP = (n_out-1)*s - n_in + k \n",
    "    pR = math.ceil(actualP/2)\n",
    "    pL = math.floor(actualP/2)\n",
    "\n",
    "    j_out = j_in * s\n",
    "    r_out = r_in + (k - 1)*j_in\n",
    "    start_out = start_in + ((k-1)/2 - pL)*j_in\n",
    "    return n_out, j_out, r_out, start_out\n",
    "  \n",
    "layerInfos = []\n",
    "#first layer is the data layer (image) with n_0 = image size; j_0 = 1; r_0 = 1; and start_0 = 0.5\n",
    "currentLayer = [imsize, 1, 1, 0.5]\n",
    "for i in range(len(convnet)):\n",
    "    currentLayer = outFromIn(convnet[i], currentLayer)\n",
    "    layerInfos.append(currentLayer)\n",
    "layer_name = raw_input (\"Layer name where the feature in: \")\n",
    "layer_idx = layer_names.index(layer_name)\n",
    "idx_x = int(raw_input (\"index of the feature in x dimension (from 0)\"))\n",
    "idx_y = int(raw_input (\"index of the feature in y dimension (from 0)\"))\n",
    "\n",
    "n = layerInfos[layer_idx][0]\n",
    "j = layerInfos[layer_idx][1]\n",
    "r = layerInfos[layer_idx][2]\n",
    "start = layerInfos[layer_idx][3]\n",
    "assert(idx_x < n)\n",
    "assert(idx_y < n)\n",
    "\n",
    "print (\"receptive field: (%s, %s)\" % (r, r))\n",
    "print (\"center: (%s, %s)\" % (start+idx_x*j, start+idx_y*j))"
   ]
  }
 ],
 "metadata": {
  "kernelspec": {
   "display_name": "Python 2",
   "language": "python",
   "name": "python2"
  },
  "language_info": {
   "codemirror_mode": {
    "name": "ipython",
    "version": 2
   },
   "file_extension": ".py",
   "mimetype": "text/x-python",
   "name": "python",
   "nbconvert_exporter": "python",
   "pygments_lexer": "ipython2",
   "version": "2.7.10"
  }
 },
 "nbformat": 4,
 "nbformat_minor": 2
}
